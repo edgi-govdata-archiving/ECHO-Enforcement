{
 "cells": [
  {
   "cell_type": "markdown",
   "metadata": {
    "id": "UdGOD19kaRLB"
   },
   "source": [
    "| ![EEW logo](https://github.com/edgi-govdata-archiving/EEW-Image-Assets/blob/master/Jupyter%20instructions/eew.jpg?raw=true) | ![EDGI logo](https://github.com/edgi-govdata-archiving/EEW-Image-Assets/blob/master/Jupyter%20instructions/edgi.png?raw=true) |\n",
    "|---|---|\n",
    "\n",
    "This notebook is licensed under GPL 3.0. Please visit our [Github repo](https://github.com/edgi-govdata-archiving/ECHO-Cross-Program) for more information.\n",
    "\n",
    "The notebook was collaboratively authored by EDGI following our [authorship protocol](https://docs.google.com/document/d/1CtDN5ZZ4Zv70fHiBTmWkDJ9mswEipX6eCYrwicP66Xw/).\n",
    "\n",
    "For more information about this project, visit https://www.environmentalenforcementwatch.org/"
   ]
  },
  {
   "cell_type": "markdown",
   "metadata": {
    "id": "zH-0GpDAaRLJ"
   },
   "source": [
    "# Predicting Enforcement Actions by the US EPA\n",
    "\n",
    "This notebook examines data from the EPA's Enforcement and Compliance History Online (ECHO) database (https://echo.epa.gov/). It includes information from EPA's programs covering air quality (the Clean Air Act, or CAA), water quality (the Clean Water Act, or CWA), drinking water (Safe Drinking Water Act, SDWA) and hazardous and other waste processing (the Resource Recovery and Conservation Act, or RCRA). \n",
    "\n",
    "ECHO data is available for facility violations as well as inspections and enforcement actions by EPA, state and other agencies. The data made accessible here runs from the present day (the database is refreshed weekly) back to 2001, which is when the EPA believes the data to be most reliable. It is available at the Congressional District level for a selected state, and for counties and zip codes of your choosing. \n",
    "\n",
    "The EPA program acronyms are:\n",
    "- CAA = Clean Air Act\n",
    "- CWA = Clean Water Act\n",
    "- SDWIS = Safe Drinking Water Information System\n",
    "- RCRA = Resource Conservation and Recovery Act\n",
    "- TRI = Toxics Release Inventory\n",
    "- GHG = Greenhouse Gas Reporting Program\n"
   ]
  },
  {
   "cell_type": "markdown",
   "metadata": {
    "id": "TDgxwY6aaRLK"
   },
   "source": [
    "## How to Run\n",
    "* A \"cell\" in a Jupyter notebook is a block of code performing a set of actions making available or using specific data.  The notebook works by running one cell after another, as the notebook user selects offered options.\n",
    "* If you click on a gray **code** cell, a little “play button” arrow appears on the left. If you click the play button, it will run the code in that cell (“**running** a cell”). The button will animate. When the animation stops, the cell has finished running.\n",
    "![Where to click to run the cell](https://github.com/edgi-govdata-archiving/EEW-Image-Assets/blob/master/Jupyter%20instructions/pressplay.JPG?raw=true)\n",
    "* You may get a warning that the notebook was not authored by Google. We know, we authored them! It’s okay. Click “Run Anyway” to continue. \n",
    "![Error Message](https://github.com/edgi-govdata-archiving/EEW-Image-Assets/blob/master/Jupyter%20instructions/warning-message.JPG?raw=true)\n",
    "* **It is important to run cells in order because they depend on each other.**\n",
    "* Run all of the cells in a Notebook to make a complete report. Please feel free to look at and **learn about each result as you create it**!"
   ]
  },
  {
   "cell_type": "markdown",
   "metadata": {
    "id": "Ad_p17bEaRLK"
   },
   "source": [
    "---"
   ]
  },
  {
   "cell_type": "markdown",
   "metadata": {
    "id": "5ci8OkjOaRLK"
   },
   "source": [
    "# **Let's begin!**"
   ]
  },
  {
   "cell_type": "markdown",
   "metadata": {
    "id": "Cyj_M3SXaRLL"
   },
   "source": [
    "Hover over the \"[ ]\" on the top left corner of the cell below and you should see a \"play\" button appear. Click on it to run the cell then move to the next one.\n",
    "\n",
    "These first two cells give us access to some external Python code we will need."
   ]
  },
  {
   "cell_type": "markdown",
   "metadata": {
    "id": "0x-fp6PTaRLL"
   },
   "source": [
    "### 1.  Bring in some code that is stored in a Github project, and run a few Python modules."
   ]
  },
  {
   "cell_type": "code",
   "execution_count": null,
   "metadata": {
    "id": "OZatef7xaRLL",
    "tags": []
   },
   "outputs": [],
   "source": [
    "!pip install git+https://github.com/edgi-govdata-archiving/ECHO_modules\n",
    "!pip install geopandas &>/dev/null;\n",
    "\n",
    "print(\"Done!\")"
   ]
  },
  {
   "cell_type": "markdown",
   "metadata": {
    "id": "Mc4Tx0awYQTL"
   },
   "source": [
    "### 2. Let's get familiar with the database.\n",
    "\n",
    "We will construct a query and look at some of the EPA ECHO data."
   ]
  },
  {
   "cell_type": "code",
   "execution_count": null,
   "metadata": {
    "id": "h9FkEKOfXmns"
   },
   "outputs": [],
   "source": [
    "from ECHO_modules.get_data import get_echo_data\n",
    "\n",
    "# In the Python programming language, we use # to write comments in our code. \n",
    "# The computer doesn't process these, but they are important for communicating context!\n",
    "\n",
    "# First, we'll write a SQL query. SQL = Structured Query Language. It is a standard format / syntax\n",
    "# for asking databases for specific kinds of information.\n",
    "\n",
    "# Our SQL query begins with a variable sql set to a string that is the query itself\n",
    "sql = 'select * from \"ECHO_EXPORTER\" where \"FAC_STATE\" = \\'IA\\''\n",
    "# This should be read as, select all columns from the ECHO_EXPORTER table (spreadsheet)\n",
    "# where the FAC_STATE column is equal to IA (Iowa)\n",
    "\n",
    "# This is the URL where we get the data from - a server hosted by Stony Brook University\n",
    "#url= 'http://portal.gss.stonybrook.edu/echoepa/?query=' \n",
    "\n",
    "# The specific location of the data\n",
    "#data_location=url+urllib.parse.quote_plus(sql) + '&pg'\n",
    "\n",
    "print(sql) # Debugging\n",
    "\n",
    "# Get the data. `get_data` is a behind the scenes function we wrote in another script and which\n",
    "# was imported in Step 1 of this notebook. It helps us get data from the database!\n",
    "facilities = get_echo_data(sql)\n",
    "\n",
    "# Show the results\n",
    "facilities"
   ]
  },
  {
   "cell_type": "markdown",
   "metadata": {
    "id": "ZaZz64mCbLHM"
   },
   "source": [
    "### 3. Wow, that's a lot of data! How can we work with it?\n",
    "The next few cells introduce some common techniques for parsing and displaying data. We use the Pandas package of add-ons to Python."
   ]
  },
  {
   "cell_type": "code",
   "execution_count": null,
   "metadata": {
    "id": "4Ho7RLIxbYnl"
   },
   "outputs": [],
   "source": [
    "# Loop through and list all the columns in this table (spreadsheet)\n",
    "for column in facilities.columns:\n",
    "  display(column)"
   ]
  },
  {
   "cell_type": "code",
   "execution_count": null,
   "metadata": {
    "id": "UCM2jZz5bo3v"
   },
   "outputs": [],
   "source": [
    "# Show facilities \"flagged\" or regulated under the Clean Water Act (CWA)'s National\n",
    "# Pollutant Discharge Elimination System (NPDES)\n",
    "npdes = facilities.loc[facilities['NPDES_FLAG'] == 'Y']\n",
    "npdes # Display the facilities\n",
    "# In this case, we have created a new variable `npdes` to store just the facilities that are NPDES-regulated\n",
    "# This allows us to work just with this sliver of the data in later cells."
   ]
  },
  {
   "cell_type": "code",
   "execution_count": null,
   "metadata": {
    "id": "P9wdzotJcAnf"
   },
   "outputs": [],
   "source": [
    "# Show the violations associated with these. How many times over the past 13 quarters\n",
    "# have these facilities violated their permits?\n",
    "npdes['CWA_13QTRS_EFFLNT_EXCEEDANCES']"
   ]
  },
  {
   "cell_type": "code",
   "execution_count": null,
   "metadata": {
    "id": "0spXJLUycZjt"
   },
   "outputs": [],
   "source": [
    "# As you can see, some are NaN (no value listed)\n",
    "# So let's filter to just those with at least 1 effluent violation\n",
    "violators = npdes.loc[npdes['CWA_13QTRS_EFFLNT_EXCEEDANCES'] > 0]\n",
    "violators"
   ]
  },
  {
   "cell_type": "code",
   "execution_count": null,
   "metadata": {
    "id": "aSCvsg5sgtqu"
   },
   "outputs": [],
   "source": [
    "# These 800 or so facilities have exceeded their permits in the past 3 years.\n",
    "# But has US EPA and its state counterparts taken any action (penalties, fines, warnings, etc)\n",
    "# against them (in the past 5 years)? \n",
    "\n",
    "no_info = violators.loc[violators['CWA_FORMAL_ACTION_COUNT'].isna()] # Violators with no info about enforcement actions\n",
    "violators_with_enforcement = violators.loc[violators['CWA_FORMAL_ACTION_COUNT'] > 0] # Violators with at least 1 enforcement action\n",
    "\n",
    "print(len(no_info.index)) # Print the number of facilities with no info about enforcement actions\n",
    "print ((len(violators_with_enforcement.index) / len(violators.index)) *100) # Print the share of violating facilities with enforcement actions"
   ]
  },
  {
   "cell_type": "markdown",
   "metadata": {
    "id": "NpbuvNhzXgN4"
   },
   "source": [
    "### 4. Construct your own query!\n",
    "What sorts of variables (facility location, neighborhood demographics, etc.) predict whether or not enforcement actions have been taken?\n"
   ]
  },
  {
   "cell_type": "code",
   "execution_count": null,
   "metadata": {
    "id": "Pe0pN53jdS6y"
   },
   "outputs": [],
   "source": [
    "sql = '' # Your query here\n",
    "# Some notes about syntax. Use \"\" double quotes around the names of tables and columns.\n",
    "# Use single quotes '' around the entire query\n",
    "# Use \\' around strings that are a part of the query e.g. \\'BATON ROUGE\\'\n",
    "results = get_echo_data(sql)"
   ]
  },
  {
   "cell_type": "markdown",
   "metadata": {
    "id": "C-sQQbU_aRLO"
   },
   "source": [
    "## More details on program data available in the ECHO database...\n",
    "\n",
    " **Inspections** or **evaluations** are usually the first phase in the enforcement pipeline, how many (but not all) violations are discovered.  **Violations** happen when a facilty is found to be out of compliance with an environmental law, often by violating the terms of its permit issued under that law.  **Enforcement actions** happen when the regulating agency decides to initiate a \"case\" against a firm for its violation of an environmental law, either by considering some administrative penalty such as a fine or by taking the violator to court. \n",
    "\n",
    "What's available for you to look at here:\n",
    "\n",
    "https://github.com/edgi-govdata-archiving/ECHO-Oil-Gas/blob/main/slim_echoepa_a_schema.sql\n",
    "\n",
    "**Hazardous and Other Waste**:\n",
    "- RCRA_EVALUATIONS = Inspections under RCRA\n",
    "- RCRA_VIOLATIONS = Violations of RCRA rules\n",
    "- RCRA_ENFORCEMENTS = Enforcement actions taken by state agencies and the EPA\n",
    "\n",
    "Here's where you can find definitions of terms used in the columns of RCRA data: \n",
    "https://echo.epa.gov/tools/data-downloads/rcrainfo-download-summary \n",
    "\n",
    "**Air**:\n",
    "- ICIS-AIR_VIOLATION_HISTORY = CAA violations\n",
    "- ICIS-AIR_FCES_PCES = Both state and federal CAA compliance evaluations\n",
    "- ICIS-AIR_FORMAL_ACTIONS = CAA formal enforcement actions\n",
    "\n",
    "Here's where you can find definitions of terms used in the columns of Clean Air Act data: \n",
    "https://echo.epa.gov/tools/data-downloads/icis-air-download-summary\n",
    "\n",
    "**Air Emissions** (Combined air emissions data for stationary sources from four EPA air programs: National Emissions Inventory (NEI), Greenhouse Gas Reporting Program (GHGRP), Toxic Release Inventory (TRI), and Clean Air Markets (CAMD)):\n",
    "- Greenhouse Gases via POLL_RPT_COMBINED_EMISSIONS\n",
    "- Toxic Releases via POLL_RPT_COMBINED_EMISSIONS\n",
    "\n",
    "Here's where you can find definitions of terms used in the columns of this data: https://echo.epa.gov/tools/data-downloads/air-emissions-download-summary\n",
    "\n",
    "**Water** (National Pollutant Discharge Elimination System, or NPDES):\n",
    "- NPDES_QNCR_HISTORY = CWA Quarterly Non-Compliance History\n",
    "- NPDES_INSPECTIONS = CWA Inspections\n",
    "- NPDES_FORMAL_ENFORCEMENT_ACTIONS = CWA Enforcements\n",
    "\n",
    "Here's where you can find definitions of terms used in the columns of Clean Water Act data: https://echo.epa.gov/tools/data-downloads/icis-npdes-download-summary\n",
    "\n",
    "**Drinking Water** (Safe Drinking Water Act, or SDWA):\n",
    "- SDWA_PUB_WATER_SYSTEMS = Public Water Systems under Safe Drinking Water Act\n",
    "- SDWA_SITE_VISITS = Safe Drinking Water Site Visits\n",
    "- SDWA_VIOLATIONS = Safe Drinking Water Violations\n",
    "- SDWA_SERIOUS_VIOLATORS = Safe Drinking Water Serious Violators\n",
    "- SDWA_ENFORCEMENTS = Safe Drinking Water Enforcements\n",
    "- SDWA_RETURN_TO_COMPLIANCE = Safe Drinking Water Return to Compliance\n",
    "\n",
    "Here's where you can find definitions of terms used in the columns of Clean Water Act data: https://echo.epa.gov/tools/data-downloads/sdwa-download-summary"
   ]
  }
 ],
 "metadata": {
  "colab": {
   "name": "ECHO-Enforcement",
   "provenance": []
  },
  "kernelspec": {
   "display_name": "Python 3",
   "language": "python",
   "name": "python3"
  },
  "language_info": {
   "codemirror_mode": {
    "name": "ipython",
    "version": 3
   },
   "file_extension": ".py",
   "mimetype": "text/x-python",
   "name": "python",
   "nbconvert_exporter": "python",
   "pygments_lexer": "ipython3",
   "version": "3.8.5"
  }
 },
 "nbformat": 4,
 "nbformat_minor": 1
}
